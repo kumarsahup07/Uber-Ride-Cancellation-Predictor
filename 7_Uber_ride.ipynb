{
 "cells": [
  {
   "cell_type": "markdown",
   "id": "d4c00734",
   "metadata": {},
   "source": [
    "## Part 1: Foundation: Data Exploration & Analysis - Understanding the raw data and uncovering initial insights about ride cancellations."
   ]
  },
  {
   "cell_type": "code",
   "execution_count": 46,
   "id": "3ce9c0be",
   "metadata": {},
   "outputs": [],
   "source": [
    "import numpy as np\n",
    "import pandas as pd\n",
    "import matplotlib.pyplot as plt\n",
    "import seaborn as sns\n",
    "import warnings\n",
    "from warnings import filterwarnings\n",
    "filterwarnings('ignore')"
   ]
  },
  {
   "cell_type": "code",
   "execution_count": 47,
   "id": "9fa44dad",
   "metadata": {},
   "outputs": [
    {
     "name": "stdout",
     "output_type": "stream",
     "text": [
      "--- Task 1: Data Loading ---\n"
     ]
    }
   ],
   "source": [
    "print(\"--- Task 1: Data Loading ---\")"
   ]
  },
  {
   "cell_type": "code",
   "execution_count": 48,
   "id": "37aaab4a",
   "metadata": {},
   "outputs": [],
   "source": [
    "df = pd.read_csv(\"ncr_ride_bookings.csv\")"
   ]
  },
  {
   "cell_type": "code",
   "execution_count": 49,
   "id": "c9e94f44",
   "metadata": {},
   "outputs": [
    {
     "name": "stdout",
     "output_type": "stream",
     "text": [
      "--- Data Loading Successfully. First 5 rows:\n",
      "====================================================================================================\n",
      "         Date      Time    Booking ID   Booking Status   Customer ID  \\\n",
      "0  2024-03-23  12:29:38  \"CNR5884300\"  No Driver Found  \"CID1982111\"   \n",
      "1  2024-11-29  18:01:39  \"CNR1326809\"       Incomplete  \"CID4604802\"   \n",
      "2  2024-08-23  08:56:10  \"CNR8494506\"        Completed  \"CID9202816\"   \n",
      "3  2024-10-21  17:17:25  \"CNR8906825\"        Completed  \"CID2610914\"   \n",
      "4  2024-09-16  22:08:00  \"CNR1950162\"        Completed  \"CID9933542\"   \n",
      "\n",
      "    Vehicle Type      Pickup Location      Drop Location  Avg VTAT  Avg CTAT  \\\n",
      "0          eBike          Palam Vihar            Jhilmil       NaN       NaN   \n",
      "1       Go Sedan        Shastri Nagar  Gurgaon Sector 56       4.9      14.0   \n",
      "2           Auto              Khandsa      Malviya Nagar      13.4      25.8   \n",
      "3  Premier Sedan  Central Secretariat           Inderlok      13.1      28.5   \n",
      "4           Bike     Ghitorni Village        Khan Market       5.3      19.6   \n",
      "\n",
      "   ...  Reason for cancelling by Customer Cancelled Rides by Driver  \\\n",
      "0  ...                                NaN                       NaN   \n",
      "1  ...                                NaN                       NaN   \n",
      "2  ...                                NaN                       NaN   \n",
      "3  ...                                NaN                       NaN   \n",
      "4  ...                                NaN                       NaN   \n",
      "\n",
      "   Driver Cancellation Reason Incomplete Rides  Incomplete Rides Reason  \\\n",
      "0                         NaN              NaN                      NaN   \n",
      "1                         NaN              1.0        Vehicle Breakdown   \n",
      "2                         NaN              NaN                      NaN   \n",
      "3                         NaN              NaN                      NaN   \n",
      "4                         NaN              NaN                      NaN   \n",
      "\n",
      "  Booking Value  Ride Distance  Driver Ratings  Customer Rating  \\\n",
      "0           NaN            NaN             NaN              NaN   \n",
      "1         237.0           5.73             NaN              NaN   \n",
      "2         627.0          13.58             4.9              4.9   \n",
      "3         416.0          34.02             4.6              5.0   \n",
      "4         737.0          48.21             4.1              4.3   \n",
      "\n",
      "   Payment Method  \n",
      "0             NaN  \n",
      "1             UPI  \n",
      "2      Debit Card  \n",
      "3             UPI  \n",
      "4             UPI  \n",
      "\n",
      "[5 rows x 21 columns]\n",
      "====================================================================================================\n"
     ]
    }
   ],
   "source": [
    "print('--- Data Loading Successfully. First 5 rows:')\n",
    "print(\"=\"*100)\n",
    "print(df.head())\n",
    "print(\"=\"*100)"
   ]
  },
  {
   "cell_type": "code",
   "execution_count": 50,
   "id": "102b84fc",
   "metadata": {},
   "outputs": [
    {
     "name": "stdout",
     "output_type": "stream",
     "text": [
      "--- Task 2 Basic Dataset Information ---\n",
      "Dataset Shape:  (150000, 21)\n",
      "Dataset Columns:  ['Date', 'Time', 'Booking ID', 'Booking Status', 'Customer ID', 'Vehicle Type', 'Pickup Location', 'Drop Location', 'Avg VTAT', 'Avg CTAT', 'Cancelled Rides by Customer', 'Reason for cancelling by Customer', 'Cancelled Rides by Driver', 'Driver Cancellation Reason', 'Incomplete Rides', 'Incomplete Rides Reason', 'Booking Value', 'Ride Distance', 'Driver Ratings', 'Customer Rating', 'Payment Method']\n",
      "====================================================================================================\n"
     ]
    }
   ],
   "source": [
    "print(\"--- Task 2 Basic Dataset Information ---\")\n",
    "print('Dataset Shape: ',df.shape)\n",
    "print('Dataset Columns: ',df.columns.tolist())\n",
    "print(\"=\"*100)"
   ]
  },
  {
   "cell_type": "code",
   "execution_count": 51,
   "id": "af98e975",
   "metadata": {},
   "outputs": [
    {
     "data": {
      "application/vnd.microsoft.datawrangler.viewer.v0+json": {
       "columns": [
        {
         "name": "Booking Status",
         "rawType": "object",
         "type": "string"
        },
        {
         "name": "count",
         "rawType": "int64",
         "type": "integer"
        }
       ],
       "ref": "c9e071d9-e561-4c48-aebc-79a754cd522f",
       "rows": [
        [
         "Completed",
         "93000"
        ],
        [
         "Cancelled by Driver",
         "27000"
        ],
        [
         "No Driver Found",
         "10500"
        ],
        [
         "Cancelled by Customer",
         "10500"
        ],
        [
         "Incomplete",
         "9000"
        ]
       ],
       "shape": {
        "columns": 1,
        "rows": 5
       }
      },
      "text/plain": [
       "Booking Status\n",
       "Completed                93000\n",
       "Cancelled by Driver      27000\n",
       "No Driver Found          10500\n",
       "Cancelled by Customer    10500\n",
       "Incomplete                9000\n",
       "Name: count, dtype: int64"
      ]
     },
     "execution_count": 51,
     "metadata": {},
     "output_type": "execute_result"
    }
   ],
   "source": [
    "df['Booking Status'].value_counts()"
   ]
  },
  {
   "cell_type": "code",
   "execution_count": 52,
   "id": "336efa5e",
   "metadata": {},
   "outputs": [
    {
     "name": "stdout",
     "output_type": "stream",
     "text": [
      "--- Task 3: Overall Cancellation Rate ---\n",
      "The overall cancellation rate is: 25.00%\n",
      "====================================================================================================\n"
     ]
    },
    {
     "data": {
      "image/png": "[encoded data removed]",
      "text/plain": [
       "<Figure size 1400x500 with 2 Axes>"
      ]
     },
     "metadata": {},
     "output_type": "display_data"
    }
   ],
   "source": [
    "print('--- Task 3: Overall Cancellation Rate ---')\n",
    "total_rides = len(df)\n",
    "cancellation_statuses = ['Cancelled by Customer','Cancelled by Driver']\n",
    "cancellation_rides = df[df['Booking Status'].isin(cancellation_statuses)]\n",
    "cancelled_count = len(cancellation_rides)\n",
    "ans = cancelled_count/total_rides\n",
    "print(f'The overall cancellation rate is: {ans:.2%}')\n",
    "print(\"=\"*100)\n",
    "\n",
    "# 5️⃣ Cancellation Reasons (Customer & Driver)\n",
    "fig, axes = plt.subplots(1, 2, figsize=(14,5))\n",
    "sns.countplot(y='Reason for cancelling by Customer', data=df, order=df['Reason for cancelling by Customer'].value_counts().index, ax=axes[0], palette='Reds')\n",
    "axes[0].set_title(\"Customer Cancellation Reasons\")\n",
    "sns.countplot(y='Driver Cancellation Reason', data=df, order=df['Driver Cancellation Reason'].value_counts().index, ax=axes[1], palette='Oranges')\n",
    "axes[1].set_title(\"Driver Cancellation Reasons\")\n",
    "plt.tight_layout()\n",
    "plt.show()"
   ]
  },
  {
   "cell_type": "code",
   "execution_count": 53,
   "id": "5fba1f12",
   "metadata": {},
   "outputs": [
    {
     "name": "stdout",
     "output_type": "stream",
     "text": [
      "--- Task 4: Vehicle with Most Cancellations ---\n",
      "The vehicle type with the most cancellations is:  Auto\n",
      "====================================================================================================\n"
     ]
    },
    {
     "data": {
      "image/png": "[encoded data removed]",
      "text/plain": [
       "<Figure size 700x500 with 1 Axes>"
      ]
     },
     "metadata": {},
     "output_type": "display_data"
    }
   ],
   "source": [
    "print('--- Task 4: Vehicle with Most Cancellations ---')\n",
    "ans = cancellation_rides['Vehicle Type'].mode()[0]\n",
    "print(\"The vehicle type with the most cancellations is: \",ans)\n",
    "print(\"=\"*100)\n",
    "\n",
    "plt.figure(figsize=(7,5))\n",
    "sns.countplot(x='Vehicle Type', data=df, order=df['Vehicle Type'].value_counts().index, palette='coolwarm')\n",
    "plt.title(\"Vehicle Type Distribution\")\n",
    "plt.xticks(rotation=45)\n",
    "plt.show()"
   ]
  },
  {
   "cell_type": "code",
   "execution_count": 54,
   "id": "2af14f99",
   "metadata": {},
   "outputs": [
    {
     "name": "stdout",
     "output_type": "stream",
     "text": [
      "--- Task 5: Top Customer Cancellation Reason ---\n",
      "The most common reason for customer cancellations is:  Wrong Address\n",
      "====================================================================================================\n"
     ]
    }
   ],
   "source": [
    "print('--- Task 5: Top Customer Cancellation Reason ---')\n",
    "top_reason = df['Reason for cancelling by Customer'].mode()[0]\n",
    "print('The most common reason for customer cancellations is: ',top_reason)\n",
    "print('='*100)"
   ]
  },
  {
   "cell_type": "code",
   "execution_count": 55,
   "id": "cc0e86f1",
   "metadata": {},
   "outputs": [
    {
     "name": "stdout",
     "output_type": "stream",
     "text": [
      "--- Task 6: Peak Cancellation Hour ---\n",
      "The hour with the most cancellations is: 18:00 - 19:00\n",
      "====================================================================================================\n"
     ]
    }
   ],
   "source": [
    "print('--- Task 6: Peak Cancellation Hour ---')\n",
    "cancelled_df = df[df['Booking Status'].isin(cancellation_statuses)].copy()\n",
    "\n",
    "cancelled_df['hour'] = cancelled_df['Time'].str.split(':').str[0].astype(int)\n",
    "\n",
    "peak_hour = cancelled_df['hour'].mode()[0]\n",
    "print(f'The hour with the most cancellations is: {peak_hour}:00 - {peak_hour+1}:00')\n",
    "print(\"=\"*100)"
   ]
  },
  {
   "cell_type": "code",
   "execution_count": 56,
   "id": "688eb981",
   "metadata": {},
   "outputs": [
    {
     "data": {
      "text/plain": [
       "Index(['Date', 'Time', 'Booking ID', 'Booking Status', 'Customer ID',\n",
       "       'Vehicle Type', 'Pickup Location', 'Drop Location', 'Avg VTAT',\n",
       "       'Avg CTAT', 'Cancelled Rides by Customer',\n",
       "       'Reason for cancelling by Customer', 'Cancelled Rides by Driver',\n",
       "       'Driver Cancellation Reason', 'Incomplete Rides',\n",
       "       'Incomplete Rides Reason', 'Booking Value', 'Ride Distance',\n",
       "       'Driver Ratings', 'Customer Rating', 'Payment Method'],\n",
       "      dtype='object')"
      ]
     },
     "execution_count": 56,
     "metadata": {},
     "output_type": "execute_result"
    }
   ],
   "source": [
    "df.columns"
   ]
  },
  {
   "cell_type": "code",
   "execution_count": 57,
   "id": "d719cd01",
   "metadata": {},
   "outputs": [
    {
     "data": {
      "image/png": "[encoded data removed]",
      "text/plain": [
       "<Figure size 800x600 with 2 Axes>"
      ]
     },
     "metadata": {},
     "output_type": "display_data"
    }
   ],
   "source": [
    "num_cols = ['Avg VTAT', 'Avg CTAT', 'Booking Value', 'Ride Distance', 'Driver Ratings', 'Customer Rating']\n",
    "plt.figure(figsize=(8,6))\n",
    "sns.heatmap(df[num_cols].corr(), annot=True, cmap='coolwarm', fmt=\".2f\")\n",
    "plt.title(\"Correlation Heatmap\")\n",
    "plt.show()"
   ]
  },
  {
   "cell_type": "markdown",
   "id": "fe5af66d",
   "metadata": {},
   "source": [
    "# Part 2 - Data Cleaning and Preprocessing\n",
    "---"
   ]
  },
  {
   "cell_type": "markdown",
   "id": "73cf91e2",
   "metadata": {},
   "source": [
    "### 1) Create Target Variable: Engineer a new binary column named is_cancelled. This will be our target for prediction.\n",
    "\n",
    "- A ride should be marked as 1 (cancelled) if its Booking Status is 'Cancelled by Customer', 'Cancelled by Driver', or 'No Driver Found'.\n",
    "- A ride should be marked as 0 (not cancelled/completed) if its Booking Status is 'Completed'.\n",
    "- All other ride statuses (e.g., 'Incomplete') are not relevant for our prediction task and should be removed from the dataset."
   ]
  },
  {
   "cell_type": "code",
   "execution_count": 58,
   "id": "4502010c",
   "metadata": {},
   "outputs": [],
   "source": [
    "cancellation_statuses = ['Cancelled by Customer', 'Cancelled by Driver', 'No Driver Found']\n",
    "\n",
    "df['is_cancelled' ] = np.where(\n",
    "    df['Booking Status'].isin(cancellation_statuses), 1,\n",
    "        np.where(df['Booking Status' ] == 'Completed', 0, -1)\n",
    "        )\n",
    "\n",
    "new_df = df[df['is_cancelled']!=-1].copy()"
   ]
  },
  {
   "cell_type": "markdown",
   "id": "b5c8fd3f",
   "metadata": {},
   "source": [
    "### 2) Engineer New Features: Create a new column hour_of_day by extracting the hour from the Time column. This will help the model learn time-based patterns."
   ]
  },
  {
   "cell_type": "code",
   "execution_count": 59,
   "id": "63b5ba3b",
   "metadata": {},
   "outputs": [],
   "source": [
    "new_df['hour_of_day'] = pd.to_datetime(new_df['Time'], format='%H:%M:%S').dt.hour"
   ]
  },
  {
   "cell_type": "markdown",
   "id": "6567d1ae",
   "metadata": {},
   "source": [
    "### 3) Handle Missing Data (Corrected Logic): \n",
    "- The dataset uses the string 'null' for missing values. First, convert these to a standard format (like NaN).\n",
    "- Then, instead of dropping rows, impute (fill) the missing values in the Avg VTAT and Avg CTAT columns with 0.\n",
    "- This is critical because cancelled rides often lack arrival time data, and filling with 0 preserves these important examples for the model."
   ]
  },
  {
   "cell_type": "code",
   "execution_count": 60,
   "id": "7e91df0b",
   "metadata": {},
   "outputs": [],
   "source": [
    "new_df.replace('null',np.nan,inplace=True)"
   ]
  },
  {
   "cell_type": "code",
   "execution_count": 61,
   "id": "23a548f5",
   "metadata": {},
   "outputs": [
    {
     "name": "stdout",
     "output_type": "stream",
     "text": [
      "Imputation complete. Rows remaining: 141000\n"
     ]
    }
   ],
   "source": [
    "\n",
    "new_df['Avg VTAT' ] = new_df['Avg VTAT' ].fillna(0)\n",
    "new_df['Avg CTAT' ] = new_df[ 'Avg CTAT' ].fillna(0)\n",
    "\n",
    "new_df['Avg VTAT'] = pd.to_numeric(new_df[ 'Avg VTAT' ])\n",
    "new_df['Avg CTAT' ] = pd.to_numeric(new_df['Avg CTAT' ])\n",
    "\n",
    "print(f\"Imputation complete. Rows remaining: {len(new_df)}\")"
   ]
  },
  {
   "cell_type": "markdown",
   "id": "ea5cccac",
   "metadata": {},
   "source": [
    "### 4) Remove Unnecessary Columns: Drop columns that are irrelevant, redundant, or would cause \"data leakage\" (i.e., they reveal the answer to the model). The following columns must be removed:\n",
    "\n",
    "- Leakage Columns: Booking Status, Cancelled Rides by Customer, Reason for cancelling by Customer, Cancelled Rides by Driver, Driver Cancellation Reason, Incomplete Rides, Incomplete Rides Reason.\n",
    "- Post-Ride Info: Ride Distance, Booking Value, Driver Ratings, Customer Rating (these are only known after a ride is completed).\n",
    "- High Cardinality/ID Columns: Booking ID, Customer ID.\n",
    "- Redundant Columns: Date, Time (since we have already extracted the hour_of_day)."
   ]
  },
  {
   "cell_type": "code",
   "execution_count": 62,
   "id": "a599e878",
   "metadata": {},
   "outputs": [
    {
     "data": {
      "text/plain": [
       "Index(['Date', 'Time', 'Booking ID', 'Booking Status', 'Customer ID',\n",
       "       'Vehicle Type', 'Pickup Location', 'Drop Location', 'Avg VTAT',\n",
       "       'Avg CTAT', 'Cancelled Rides by Customer',\n",
       "       'Reason for cancelling by Customer', 'Cancelled Rides by Driver',\n",
       "       'Driver Cancellation Reason', 'Incomplete Rides',\n",
       "       'Incomplete Rides Reason', 'Booking Value', 'Ride Distance',\n",
       "       'Driver Ratings', 'Customer Rating', 'Payment Method', 'is_cancelled',\n",
       "       'hour_of_day'],\n",
       "      dtype='object')"
      ]
     },
     "execution_count": 62,
     "metadata": {},
     "output_type": "execute_result"
    }
   ],
   "source": [
    "new_df.columns"
   ]
  },
  {
   "cell_type": "code",
   "execution_count": 63,
   "id": "5beb1c22",
   "metadata": {},
   "outputs": [],
   "source": [
    "columns_to_drop = ['Booking Status', 'Cancelled Rides by Customer', 'Reason for cancelling by Customer',\n",
    "'Cancelled Rides by Driver', 'Driver Cancellation Reason', 'Incomplete Rides',\n",
    "'Incomplete Rides Reason', 'Ride Distance', 'Booking Value', 'Driver Ratings',\n",
    "'Customer Rating', 'Booking ID', 'Customer ID', 'Date', 'Time']\n",
    "\n",
    "cols_to_drop_existing = [col for col in columns_to_drop if col in new_df.columns]\n",
    "new_df.drop(columns=cols_to_drop_existing,inplace=True)"
   ]
  },
  {
   "cell_type": "code",
   "execution_count": 64,
   "id": "e95264ad",
   "metadata": {},
   "outputs": [
    {
     "data": {
      "text/plain": [
       "Index(['Vehicle Type', 'Pickup Location', 'Drop Location', 'Avg VTAT',\n",
       "       'Avg CTAT', 'Payment Method', 'is_cancelled', 'hour_of_day'],\n",
       "      dtype='object')"
      ]
     },
     "execution_count": 64,
     "metadata": {},
     "output_type": "execute_result"
    }
   ],
   "source": [
    "new_df.columns"
   ]
  },
  {
   "cell_type": "code",
   "execution_count": 65,
   "id": "3c6c4dba",
   "metadata": {},
   "outputs": [],
   "source": [
    "new_df.to_csv('clean_uber_rides.csv')"
   ]
  },
  {
   "cell_type": "markdown",
   "id": "33b6267b",
   "metadata": {},
   "source": [
    "# Part 3 - Building and Evaluating the Model\n",
    "---"
   ]
  },
  {
   "cell_type": "code",
   "execution_count": 66,
   "id": "30cfcbbc",
   "metadata": {},
   "outputs": [],
   "source": [
    "from sklearn.model_selection import train_test_split\n",
    "from sklearn.tree import DecisionTreeClassifier\n",
    "from sklearn.metrics import accuracy_score"
   ]
  },
  {
   "cell_type": "markdown",
   "id": "5698fb56",
   "metadata": {},
   "source": [
    "### 1) Prepare Data for Modeling:\n",
    "- Load the clean_uber_rides_2024.csv dataset.\n",
    "- Separate the dataset into features (X) and the target variable (y, which is the is_cancelled column).\n",
    "- Convert categorical features into a numerical format using One-Hot Encoding."
   ]
  },
  {
   "cell_type": "code",
   "execution_count": 67,
   "id": "810b0dab",
   "metadata": {},
   "outputs": [],
   "source": [
    "clean_df = pd.read_csv(\"clean_uber_rides.csv\")"
   ]
  },
  {
   "cell_type": "code",
   "execution_count": 68,
   "id": "d841fff8",
   "metadata": {},
   "outputs": [],
   "source": [
    "X = clean_df.drop(columns='is_cancelled')\n",
    "y = clean_df['is_cancelled']"
   ]
  },
  {
   "cell_type": "code",
   "execution_count": 69,
   "id": "0ed75db9",
   "metadata": {},
   "outputs": [],
   "source": [
    "X_encoded = pd.get_dummies(X,drop_first=True)"
   ]
  },
  {
   "cell_type": "markdown",
   "id": "261431ed",
   "metadata": {},
   "source": [
    "### 2) Split the Data:\n",
    "- Divide the prepared data into a training set and a testing set using a stratified split to ensure both sets have a representative number of cancelled and completed rides."
   ]
  },
  {
   "cell_type": "code",
   "execution_count": 70,
   "id": "623c86d8",
   "metadata": {},
   "outputs": [],
   "source": [
    "X_train, X_test, y_train, y_test = train_test_split(X_encoded, y, test_size=0.2, random_state=42,stratify=y)"
   ]
  },
  {
   "cell_type": "markdown",
   "id": "37bd0654",
   "metadata": {},
   "source": [
    "### 3) Train a Classification Model:\n",
    "- Instantiate and train a DecisionTreeClassifier model. This is a powerful and intuitive model that learns a set of explicit ′if-then-else′ rules, making its predictions easy to understand."
   ]
  },
  {
   "cell_type": "code",
   "execution_count": 71,
   "id": "8a253c2d",
   "metadata": {},
   "outputs": [
    {
     "data": {
      "text/html": [
       "<style>#sk-container-id-2 {\n",
       "  /* Definition of color scheme common for light and dark mode */\n",
       "  --sklearn-color-text: #000;\n",
       "  --sklearn-color-text-muted: #666;\n",
       "  --sklearn-color-line: gray;\n",
       "  /* Definition of color scheme for unfitted estimators */\n",
       "  --sklearn-color-unfitted-level-0: #fff5e6;\n",
       "  --sklearn-color-unfitted-level-1: #f6e4d2;\n",
       "  --sklearn-color-unfitted-level-2: #ffe0b3;\n",
       "  --sklearn-color-unfitted-level-3: chocolate;\n",
       "  /* Definition of color scheme for fitted estimators */\n",
       "  --sklearn-color-fitted-level-0: #f0f8ff;\n",
       "  --sklearn-color-fitted-level-1: #d4ebff;\n",
       "  --sklearn-color-fitted-level-2: #b3dbfd;\n",
       "  --sklearn-color-fitted-level-3: cornflowerblue;\n",
       "\n",
       "  /* Specific color for light theme */\n",
       "  --sklearn-color-text-on-default-background: var(--sg-text-color, var(--theme-code-foreground, var(--jp-content-font-color1, black)));\n",
       "  --sklearn-color-background: var(--sg-background-color, var(--theme-background, var(--jp-layout-color0, white)));\n",
       "  --sklearn-color-border-box: var(--sg-text-color, var(--theme-code-foreground, var(--jp-content-font-color1, black)));\n",
       "  --sklearn-color-icon: #696969;\n",
       "\n",
       "  @media (prefers-color-scheme: dark) {\n",
       "    /* Redefinition of color scheme for dark theme */\n",
       "    --sklearn-color-text-on-default-background: var(--sg-text-color, var(--theme-code-foreground, var(--jp-content-font-color1, white)));\n",
       "    --sklearn-color-background: var(--sg-background-color, var(--theme-background, var(--jp-layout-color0, #111)));\n",
       "    --sklearn-color-border-box: var(--sg-text-color, var(--theme-code-foreground, var(--jp-content-font-color1, white)));\n",
       "    --sklearn-color-icon: #878787;\n",
       "  }\n",
       "}\n",
       "\n",
       "#sk-container-id-2 {\n",
       "  color: var(--sklearn-color-text);\n",
       "}\n",
       "\n",
       "#sk-container-id-2 pre {\n",
       "  padding: 0;\n",
       "}\n",
       "\n",
       "#sk-container-id-2 input.sk-hidden--visually {\n",
       "  border: 0;\n",
       "  clip: rect(1px 1px 1px 1px);\n",
       "  clip: rect(1px, 1px, 1px, 1px);\n",
       "  height: 1px;\n",
       "  margin: -1px;\n",
       "  overflow: hidden;\n",
       "  padding: 0;\n",
       "  position: absolute;\n",
       "  width: 1px;\n",
       "}\n",
       "\n",
       "#sk-container-id-2 div.sk-dashed-wrapped {\n",
       "  border: 1px dashed var(--sklearn-color-line);\n",
       "  margin: 0 0.4em 0.5em 0.4em;\n",
       "  box-sizing: border-box;\n",
       "  padding-bottom: 0.4em;\n",
       "  background-color: var(--sklearn-color-background);\n",
       "}\n",
       "\n",
       "#sk-container-id-2 div.sk-container {\n",
       "  /* jupyter's `normalize.less` sets `[hidden] { display: none; }`\n",
       "     but bootstrap.min.css set `[hidden] { display: none !important; }`\n",
       "     so we also need the `!important` here to be able to override the\n",
       "     default hidden behavior on the sphinx rendered scikit-learn.org.\n",
       "     See: https://github.com/scikit-learn/scikit-learn/issues/21755 */\n",
       "  display: inline-block !important;\n",
       "  position: relative;\n",
       "}\n",
       "\n",
       "#sk-container-id-2 div.sk-text-repr-fallback {\n",
       "  display: none;\n",
       "}\n",
       "\n",
       "div.sk-parallel-item,\n",
       "div.sk-serial,\n",
       "div.sk-item {\n",
       "  /* draw centered vertical line to link estimators */\n",
       "  background-image: linear-gradient(var(--sklearn-color-text-on-default-background), var(--sklearn-color-text-on-default-background));\n",
       "  background-size: 2px 100%;\n",
       "  background-repeat: no-repeat;\n",
       "  background-position: center center;\n",
       "}\n",
       "\n",
       "/* Parallel-specific style estimator block */\n",
       "\n",
       "#sk-container-id-2 div.sk-parallel-item::after {\n",
       "  content: \"\";\n",
       "  width: 100%;\n",
       "  border-bottom: 2px solid var(--sklearn-color-text-on-default-background);\n",
       "  flex-grow: 1;\n",
       "}\n",
       "\n",
       "#sk-container-id-2 div.sk-parallel {\n",
       "  display: flex;\n",
       "  align-items: stretch;\n",
       "  justify-content: center;\n",
       "  background-color: var(--sklearn-color-background);\n",
       "  position: relative;\n",
       "}\n",
       "\n",
       "#sk-container-id-2 div.sk-parallel-item {\n",
       "  display: flex;\n",
       "  flex-direction: column;\n",
       "}\n",
       "\n",
       "#sk-container-id-2 div.sk-parallel-item:first-child::after {\n",
       "  align-self: flex-end;\n",
       "  width: 50%;\n",
       "}\n",
       "\n",
       "#sk-container-id-2 div.sk-parallel-item:last-child::after {\n",
       "  align-self: flex-start;\n",
       "  width: 50%;\n",
       "}\n",
       "\n",
       "#sk-container-id-2 div.sk-parallel-item:only-child::after {\n",
       "  width: 0;\n",
       "}\n",
       "\n",
       "/* Serial-specific style estimator block */\n",
       "\n",
       "#sk-container-id-2 div.sk-serial {\n",
       "  display: flex;\n",
       "  flex-direction: column;\n",
       "  align-items: center;\n",
       "  background-color: var(--sklearn-color-background);\n",
       "  padding-right: 1em;\n",
       "  padding-left: 1em;\n",
       "}\n",
       "\n",
       "\n",
       "/* Toggleable style: style used for estimator/Pipeline/ColumnTransformer box that is\n",
       "clickable and can be expanded/collapsed.\n",
       "- Pipeline and ColumnTransformer use this feature and define the default style\n",
       "- Estimators will overwrite some part of the style using the `sk-estimator` class\n",
       "*/\n",
       "\n",
       "/* Pipeline and ColumnTransformer style (default) */\n",
       "\n",
       "#sk-container-id-2 div.sk-toggleable {\n",
       "  /* Default theme specific background. It is overwritten whether we have a\n",
       "  specific estimator or a Pipeline/ColumnTransformer */\n",
       "  background-color: var(--sklearn-color-background);\n",
       "}\n",
       "\n",
       "/* Toggleable label */\n",
       "#sk-container-id-2 label.sk-toggleable__label {\n",
       "  cursor: pointer;\n",
       "  display: flex;\n",
       "  width: 100%;\n",
       "  margin-bottom: 0;\n",
       "  padding: 0.5em;\n",
       "  box-sizing: border-box;\n",
       "  text-align: center;\n",
       "  align-items: start;\n",
       "  justify-content: space-between;\n",
       "  gap: 0.5em;\n",
       "}\n",
       "\n",
       "#sk-container-id-2 label.sk-toggleable__label .caption {\n",
       "  font-size: 0.6rem;\n",
       "  font-weight: lighter;\n",
       "  color: var(--sklearn-color-text-muted);\n",
       "}\n",
       "\n",
       "#sk-container-id-2 label.sk-toggleable__label-arrow:before {\n",
       "  /* Arrow on the left of the label */\n",
       "  content: \"▸\";\n",
       "  float: left;\n",
       "  margin-right: 0.25em;\n",
       "  color: var(--sklearn-color-icon);\n",
       "}\n",
       "\n",
       "#sk-container-id-2 label.sk-toggleable__label-arrow:hover:before {\n",
       "  color: var(--sklearn-color-text);\n",
       "}\n",
       "\n",
       "/* Toggleable content - dropdown */\n",
       "\n",
       "#sk-container-id-2 div.sk-toggleable__content {\n",
       "  max-height: 0;\n",
       "  max-width: 0;\n",
       "  overflow: hidden;\n",
       "  text-align: left;\n",
       "  /* unfitted */\n",
       "  background-color: var(--sklearn-color-unfitted-level-0);\n",
       "}\n",
       "\n",
       "#sk-container-id-2 div.sk-toggleable__content.fitted {\n",
       "  /* fitted */\n",
       "  background-color: var(--sklearn-color-fitted-level-0);\n",
       "}\n",
       "\n",
       "#sk-container-id-2 div.sk-toggleable__content pre {\n",
       "  margin: 0.2em;\n",
       "  border-radius: 0.25em;\n",
       "  color: var(--sklearn-color-text);\n",
       "  /* unfitted */\n",
       "  background-color: var(--sklearn-color-unfitted-level-0);\n",
       "}\n",
       "\n",
       "#sk-container-id-2 div.sk-toggleable__content.fitted pre {\n",
       "  /* unfitted */\n",
       "  background-color: var(--sklearn-color-fitted-level-0);\n",
       "}\n",
       "\n",
       "#sk-container-id-2 input.sk-toggleable__control:checked~div.sk-toggleable__content {\n",
       "  /* Expand drop-down */\n",
       "  max-height: 200px;\n",
       "  max-width: 100%;\n",
       "  overflow: auto;\n",
       "}\n",
       "\n",
       "#sk-container-id-2 input.sk-toggleable__control:checked~label.sk-toggleable__label-arrow:before {\n",
       "  content: \"▾\";\n",
       "}\n",
       "\n",
       "/* Pipeline/ColumnTransformer-specific style */\n",
       "\n",
       "#sk-container-id-2 div.sk-label input.sk-toggleable__control:checked~label.sk-toggleable__label {\n",
       "  color: var(--sklearn-color-text);\n",
       "  background-color: var(--sklearn-color-unfitted-level-2);\n",
       "}\n",
       "\n",
       "#sk-container-id-2 div.sk-label.fitted input.sk-toggleable__control:checked~label.sk-toggleable__label {\n",
       "  background-color: var(--sklearn-color-fitted-level-2);\n",
       "}\n",
       "\n",
       "/* Estimator-specific style */\n",
       "\n",
       "/* Colorize estimator box */\n",
       "#sk-container-id-2 div.sk-estimator input.sk-toggleable__control:checked~label.sk-toggleable__label {\n",
       "  /* unfitted */\n",
       "  background-color: var(--sklearn-color-unfitted-level-2);\n",
       "}\n",
       "\n",
       "#sk-container-id-2 div.sk-estimator.fitted input.sk-toggleable__control:checked~label.sk-toggleable__label {\n",
       "  /* fitted */\n",
       "  background-color: var(--sklearn-color-fitted-level-2);\n",
       "}\n",
       "\n",
       "#sk-container-id-2 div.sk-label label.sk-toggleable__label,\n",
       "#sk-container-id-2 div.sk-label label {\n",
       "  /* The background is the default theme color */\n",
       "  color: var(--sklearn-color-text-on-default-background);\n",
       "}\n",
       "\n",
       "/* On hover, darken the color of the background */\n",
       "#sk-container-id-2 div.sk-label:hover label.sk-toggleable__label {\n",
       "  color: var(--sklearn-color-text);\n",
       "  background-color: var(--sklearn-color-unfitted-level-2);\n",
       "}\n",
       "\n",
       "/* Label box, darken color on hover, fitted */\n",
       "#sk-container-id-2 div.sk-label.fitted:hover label.sk-toggleable__label.fitted {\n",
       "  color: var(--sklearn-color-text);\n",
       "  background-color: var(--sklearn-color-fitted-level-2);\n",
       "}\n",
       "\n",
       "/* Estimator label */\n",
       "\n",
       "#sk-container-id-2 div.sk-label label {\n",
       "  font-family: monospace;\n",
       "  font-weight: bold;\n",
       "  display: inline-block;\n",
       "  line-height: 1.2em;\n",
       "}\n",
       "\n",
       "#sk-container-id-2 div.sk-label-container {\n",
       "  text-align: center;\n",
       "}\n",
       "\n",
       "/* Estimator-specific */\n",
       "#sk-container-id-2 div.sk-estimator {\n",
       "  font-family: monospace;\n",
       "  border: 1px dotted var(--sklearn-color-border-box);\n",
       "  border-radius: 0.25em;\n",
       "  box-sizing: border-box;\n",
       "  margin-bottom: 0.5em;\n",
       "  /* unfitted */\n",
       "  background-color: var(--sklearn-color-unfitted-level-0);\n",
       "}\n",
       "\n",
       "#sk-container-id-2 div.sk-estimator.fitted {\n",
       "  /* fitted */\n",
       "  background-color: var(--sklearn-color-fitted-level-0);\n",
       "}\n",
       "\n",
       "/* on hover */\n",
       "#sk-container-id-2 div.sk-estimator:hover {\n",
       "  /* unfitted */\n",
       "  background-color: var(--sklearn-color-unfitted-level-2);\n",
       "}\n",
       "\n",
       "#sk-container-id-2 div.sk-estimator.fitted:hover {\n",
       "  /* fitted */\n",
       "  background-color: var(--sklearn-color-fitted-level-2);\n",
       "}\n",
       "\n",
       "/* Specification for estimator info (e.g. \"i\" and \"?\") */\n",
       "\n",
       "/* Common style for \"i\" and \"?\" */\n",
       "\n",
       ".sk-estimator-doc-link,\n",
       "a:link.sk-estimator-doc-link,\n",
       "a:visited.sk-estimator-doc-link {\n",
       "  float: right;\n",
       "  font-size: smaller;\n",
       "  line-height: 1em;\n",
       "  font-family: monospace;\n",
       "  background-color: var(--sklearn-color-background);\n",
       "  border-radius: 1em;\n",
       "  height: 1em;\n",
       "  width: 1em;\n",
       "  text-decoration: none !important;\n",
       "  margin-left: 0.5em;\n",
       "  text-align: center;\n",
       "  /* unfitted */\n",
       "  border: var(--sklearn-color-unfitted-level-1) 1pt solid;\n",
       "  color: var(--sklearn-color-unfitted-level-1);\n",
       "}\n",
       "\n",
       ".sk-estimator-doc-link.fitted,\n",
       "a:link.sk-estimator-doc-link.fitted,\n",
       "a:visited.sk-estimator-doc-link.fitted {\n",
       "  /* fitted */\n",
       "  border: var(--sklearn-color-fitted-level-1) 1pt solid;\n",
       "  color: var(--sklearn-color-fitted-level-1);\n",
       "}\n",
       "\n",
       "/* On hover */\n",
       "div.sk-estimator:hover .sk-estimator-doc-link:hover,\n",
       ".sk-estimator-doc-link:hover,\n",
       "div.sk-label-container:hover .sk-estimator-doc-link:hover,\n",
       ".sk-estimator-doc-link:hover {\n",
       "  /* unfitted */\n",
       "  background-color: var(--sklearn-color-unfitted-level-3);\n",
       "  color: var(--sklearn-color-background);\n",
       "  text-decoration: none;\n",
       "}\n",
       "\n",
       "div.sk-estimator.fitted:hover .sk-estimator-doc-link.fitted:hover,\n",
       ".sk-estimator-doc-link.fitted:hover,\n",
       "div.sk-label-container:hover .sk-estimator-doc-link.fitted:hover,\n",
       ".sk-estimator-doc-link.fitted:hover {\n",
       "  /* fitted */\n",
       "  background-color: var(--sklearn-color-fitted-level-3);\n",
       "  color: var(--sklearn-color-background);\n",
       "  text-decoration: none;\n",
       "}\n",
       "\n",
       "/* Span, style for the box shown on hovering the info icon */\n",
       ".sk-estimator-doc-link span {\n",
       "  display: none;\n",
       "  z-index: 9999;\n",
       "  position: relative;\n",
       "  font-weight: normal;\n",
       "  right: .2ex;\n",
       "  padding: .5ex;\n",
       "  margin: .5ex;\n",
       "  width: min-content;\n",
       "  min-width: 20ex;\n",
       "  max-width: 50ex;\n",
       "  color: var(--sklearn-color-text);\n",
       "  box-shadow: 2pt 2pt 4pt #999;\n",
       "  /* unfitted */\n",
       "  background: var(--sklearn-color-unfitted-level-0);\n",
       "  border: .5pt solid var(--sklearn-color-unfitted-level-3);\n",
       "}\n",
       "\n",
       ".sk-estimator-doc-link.fitted span {\n",
       "  /* fitted */\n",
       "  background: var(--sklearn-color-fitted-level-0);\n",
       "  border: var(--sklearn-color-fitted-level-3);\n",
       "}\n",
       "\n",
       ".sk-estimator-doc-link:hover span {\n",
       "  display: block;\n",
       "}\n",
       "\n",
       "/* \"?\"-specific style due to the `<a>` HTML tag */\n",
       "\n",
       "#sk-container-id-2 a.estimator_doc_link {\n",
       "  float: right;\n",
       "  font-size: 1rem;\n",
       "  line-height: 1em;\n",
       "  font-family: monospace;\n",
       "  background-color: var(--sklearn-color-background);\n",
       "  border-radius: 1rem;\n",
       "  height: 1rem;\n",
       "  width: 1rem;\n",
       "  text-decoration: none;\n",
       "  /* unfitted */\n",
       "  color: var(--sklearn-color-unfitted-level-1);\n",
       "  border: var(--sklearn-color-unfitted-level-1) 1pt solid;\n",
       "}\n",
       "\n",
       "#sk-container-id-2 a.estimator_doc_link.fitted {\n",
       "  /* fitted */\n",
       "  border: var(--sklearn-color-fitted-level-1) 1pt solid;\n",
       "  color: var(--sklearn-color-fitted-level-1);\n",
       "}\n",
       "\n",
       "/* On hover */\n",
       "#sk-container-id-2 a.estimator_doc_link:hover {\n",
       "  /* unfitted */\n",
       "  background-color: var(--sklearn-color-unfitted-level-3);\n",
       "  color: var(--sklearn-color-background);\n",
       "  text-decoration: none;\n",
       "}\n",
       "\n",
       "#sk-container-id-2 a.estimator_doc_link.fitted:hover {\n",
       "  /* fitted */\n",
       "  background-color: var(--sklearn-color-fitted-level-3);\n",
       "}\n",
       "</style><div id=\"sk-container-id-2\" class=\"sk-top-container\"><div class=\"sk-text-repr-fallback\"><pre>DecisionTreeClassifier(random_state=42)</pre><b>In a Jupyter environment, please rerun this cell to show the HTML representation or trust the notebook. <br />On GitHub, the HTML representation is unable to render, please try loading this page with nbviewer.org.</b></div><div class=\"sk-container\" hidden><div class=\"sk-item\"><div class=\"sk-estimator fitted sk-toggleable\"><input class=\"sk-toggleable__control sk-hidden--visually\" id=\"sk-estimator-id-2\" type=\"checkbox\" checked><label for=\"sk-estimator-id-2\" class=\"sk-toggleable__label fitted sk-toggleable__label-arrow\"><div><div>DecisionTreeClassifier</div></div><div><a class=\"sk-estimator-doc-link fitted\" rel=\"noreferrer\" target=\"_blank\" href=\"https://scikit-learn.org/1.6/modules/generated/sklearn.tree.DecisionTreeClassifier.html\">?<span>Documentation for DecisionTreeClassifier</span></a><span class=\"sk-estimator-doc-link fitted\">i<span>Fitted</span></span></div></label><div class=\"sk-toggleable__content fitted\"><pre>DecisionTreeClassifier(random_state=42)</pre></div> </div></div></div></div>"
      ],
      "text/plain": [
       "DecisionTreeClassifier(random_state=42)"
      ]
     },
     "execution_count": 71,
     "metadata": {},
     "output_type": "execute_result"
    }
   ],
   "source": [
    "model = DecisionTreeClassifier(random_state=42)\n",
    "model.fit(X_train,y_train)"
   ]
  },
  {
   "cell_type": "markdown",
   "id": "5105bb97",
   "metadata": {},
   "source": [
    "### 4) Evaluate Model Performance:\n",
    "- Use the trained model to make predictions on the testing set.\n",
    "- Calculate the accuracy of the model to measure its overall performance."
   ]
  },
  {
   "cell_type": "code",
   "execution_count": 72,
   "id": "e8f17926",
   "metadata": {},
   "outputs": [],
   "source": [
    "y_pred = model.predict(X_test)"
   ]
  },
  {
   "cell_type": "code",
   "execution_count": 73,
   "id": "107ed46b",
   "metadata": {},
   "outputs": [
    {
     "name": "stdout",
     "output_type": "stream",
     "text": [
      "Model Evaluation Complete, Model Accuracy: 1.0000\n"
     ]
    }
   ],
   "source": [
    "accuracy = accuracy_score(y_test,y_pred)\n",
    "print(f'Model Evaluation Complete, Model Accuracy: {accuracy:.4f}')"
   ]
  },
  {
   "cell_type": "markdown",
   "id": "cc413ff6",
   "metadata": {},
   "source": [
    "### 5) Create a Prediction Pipeline:\n",
    "- Build a main function that orchestrates all the steps above and returns the fully trained DecisionTreeClassifier model and the feature columns it expects."
   ]
  },
  {
   "cell_type": "code",
   "execution_count": 74,
   "id": "1b1311f5",
   "metadata": {},
   "outputs": [],
   "source": [
    "trained_model = model\n",
    "model_columns = X_encoded.columns.tolist()"
   ]
  },
  {
   "cell_type": "code",
   "execution_count": 75,
   "id": "8dacf733",
   "metadata": {},
   "outputs": [
    {
     "name": "stdout",
     "output_type": "stream",
     "text": [
      "\n",
      " --- Prediction Example ---\n",
      "\n",
      "Sample ride data  {'Vehicle Type': 'Go Sedan', 'Pickup Location': 'Khandsa', 'Drop Location': 'Malviya Nagar', 'Avg VTAT': 13.4, 'Avg CTAT': 25.8, 'Payment Method': 'UPI', 'hour_of_day': 8}\n"
     ]
    }
   ],
   "source": [
    "if trained_model and model_columns:\n",
    "    print(\"\\n --- Prediction Example ---\\n\")\n",
    "    sample_ride = {\n",
    "        'Vehicle Type': 'Go Sedan',\n",
    "        'Pickup Location': 'Khandsa',\n",
    "        'Drop Location': 'Malviya Nagar',\n",
    "        'Avg VTAT': 13.4,\n",
    "        'Avg CTAT': 25.8,\n",
    "        'Payment Method': 'UPI',\n",
    "        'hour_of_day' : 8\n",
    "        }\n",
    "print(\"Sample ride data \",sample_ride)"
   ]
  },
  {
   "cell_type": "code",
   "execution_count": 76,
   "id": "b49380f4",
   "metadata": {},
   "outputs": [
    {
     "data": {
      "application/vnd.microsoft.datawrangler.viewer.v0+json": {
       "columns": [
        {
         "name": "index",
         "rawType": "int64",
         "type": "integer"
        },
        {
         "name": "Vehicle Type",
         "rawType": "object",
         "type": "string"
        },
        {
         "name": "Pickup Location",
         "rawType": "object",
         "type": "string"
        },
        {
         "name": "Drop Location",
         "rawType": "object",
         "type": "string"
        },
        {
         "name": "Avg VTAT",
         "rawType": "float64",
         "type": "float"
        },
        {
         "name": "Avg CTAT",
         "rawType": "float64",
         "type": "float"
        },
        {
         "name": "Payment Method",
         "rawType": "object",
         "type": "string"
        },
        {
         "name": "hour_of_day",
         "rawType": "int64",
         "type": "integer"
        }
       ],
       "ref": "41055022-23da-4790-bb52-0b71108161ed",
       "rows": [
        [
         "0",
         "Go Sedan",
         "Khandsa",
         "Malviya Nagar",
         "13.4",
         "25.8",
         "UPI",
         "8"
        ]
       ],
       "shape": {
        "columns": 7,
        "rows": 1
       }
      },
      "text/html": [
       "<div>\n",
       "<style scoped>\n",
       "    .dataframe tbody tr th:only-of-type {\n",
       "        vertical-align: middle;\n",
       "    }\n",
       "\n",
       "    .dataframe tbody tr th {\n",
       "        vertical-align: top;\n",
       "    }\n",
       "\n",
       "    .dataframe thead th {\n",
       "        text-align: right;\n",
       "    }\n",
       "</style>\n",
       "<table border=\"1\" class=\"dataframe\">\n",
       "  <thead>\n",
       "    <tr style=\"text-align: right;\">\n",
       "      <th></th>\n",
       "      <th>Vehicle Type</th>\n",
       "      <th>Pickup Location</th>\n",
       "      <th>Drop Location</th>\n",
       "      <th>Avg VTAT</th>\n",
       "      <th>Avg CTAT</th>\n",
       "      <th>Payment Method</th>\n",
       "      <th>hour_of_day</th>\n",
       "    </tr>\n",
       "  </thead>\n",
       "  <tbody>\n",
       "    <tr>\n",
       "      <th>0</th>\n",
       "      <td>Go Sedan</td>\n",
       "      <td>Khandsa</td>\n",
       "      <td>Malviya Nagar</td>\n",
       "      <td>13.4</td>\n",
       "      <td>25.8</td>\n",
       "      <td>UPI</td>\n",
       "      <td>8</td>\n",
       "    </tr>\n",
       "  </tbody>\n",
       "</table>\n",
       "</div>"
      ],
      "text/plain": [
       "  Vehicle Type Pickup Location  Drop Location  Avg VTAT  Avg CTAT  \\\n",
       "0     Go Sedan         Khandsa  Malviya Nagar      13.4      25.8   \n",
       "\n",
       "  Payment Method  hour_of_day  \n",
       "0            UPI            8  "
      ]
     },
     "execution_count": 76,
     "metadata": {},
     "output_type": "execute_result"
    }
   ],
   "source": [
    "sample_df = pd.DataFrame([sample_ride])\n",
    "sample_df"
   ]
  },
  {
   "cell_type": "code",
   "execution_count": 77,
   "id": "eb3d0505",
   "metadata": {},
   "outputs": [
    {
     "data": {
      "application/vnd.microsoft.datawrangler.viewer.v0+json": {
       "columns": [
        {
         "name": "index",
         "rawType": "int64",
         "type": "integer"
        },
        {
         "name": "Avg VTAT",
         "rawType": "float64",
         "type": "float"
        },
        {
         "name": "Avg CTAT",
         "rawType": "float64",
         "type": "float"
        },
        {
         "name": "hour_of_day",
         "rawType": "int64",
         "type": "integer"
        },
        {
         "name": "Vehicle Type_Go Sedan",
         "rawType": "bool",
         "type": "boolean"
        },
        {
         "name": "Pickup Location_Khandsa",
         "rawType": "bool",
         "type": "boolean"
        },
        {
         "name": "Drop Location_Malviya Nagar",
         "rawType": "bool",
         "type": "boolean"
        },
        {
         "name": "Payment Method_UPI",
         "rawType": "bool",
         "type": "boolean"
        }
       ],
       "ref": "ef248051-ac30-489a-ae75-4514a8f789b5",
       "rows": [
        [
         "0",
         "13.4",
         "25.8",
         "8",
         "True",
         "True",
         "True",
         "True"
        ]
       ],
       "shape": {
        "columns": 7,
        "rows": 1
       }
      },
      "text/html": [
       "<div>\n",
       "<style scoped>\n",
       "    .dataframe tbody tr th:only-of-type {\n",
       "        vertical-align: middle;\n",
       "    }\n",
       "\n",
       "    .dataframe tbody tr th {\n",
       "        vertical-align: top;\n",
       "    }\n",
       "\n",
       "    .dataframe thead th {\n",
       "        text-align: right;\n",
       "    }\n",
       "</style>\n",
       "<table border=\"1\" class=\"dataframe\">\n",
       "  <thead>\n",
       "    <tr style=\"text-align: right;\">\n",
       "      <th></th>\n",
       "      <th>Avg VTAT</th>\n",
       "      <th>Avg CTAT</th>\n",
       "      <th>hour_of_day</th>\n",
       "      <th>Vehicle Type_Go Sedan</th>\n",
       "      <th>Pickup Location_Khandsa</th>\n",
       "      <th>Drop Location_Malviya Nagar</th>\n",
       "      <th>Payment Method_UPI</th>\n",
       "    </tr>\n",
       "  </thead>\n",
       "  <tbody>\n",
       "    <tr>\n",
       "      <th>0</th>\n",
       "      <td>13.4</td>\n",
       "      <td>25.8</td>\n",
       "      <td>8</td>\n",
       "      <td>True</td>\n",
       "      <td>True</td>\n",
       "      <td>True</td>\n",
       "      <td>True</td>\n",
       "    </tr>\n",
       "  </tbody>\n",
       "</table>\n",
       "</div>"
      ],
      "text/plain": [
       "   Avg VTAT  Avg CTAT  hour_of_day  Vehicle Type_Go Sedan  \\\n",
       "0      13.4      25.8            8                   True   \n",
       "\n",
       "   Pickup Location_Khandsa  Drop Location_Malviya Nagar  Payment Method_UPI  \n",
       "0                     True                         True                True  "
      ]
     },
     "execution_count": 77,
     "metadata": {},
     "output_type": "execute_result"
    }
   ],
   "source": [
    "sample_encoded = pd.get_dummies(sample_df)\n",
    "sample_encoded"
   ]
  },
  {
   "cell_type": "code",
   "execution_count": 78,
   "id": "c22c6d5c",
   "metadata": {},
   "outputs": [],
   "source": [
    "sample_aligned = sample_encoded.reindex(columns=model_columns,fill_value=0)"
   ]
  },
  {
   "cell_type": "code",
   "execution_count": 79,
   "id": "f697e50b",
   "metadata": {},
   "outputs": [],
   "source": [
    "prediction = trained_model.predict(sample_aligned)"
   ]
  },
  {
   "cell_type": "code",
   "execution_count": 80,
   "id": "91e09e47",
   "metadata": {},
   "outputs": [],
   "source": [
    "prediction_proba = trained_model.predict_proba(sample_aligned)"
   ]
  },
  {
   "cell_type": "code",
   "execution_count": 81,
   "id": "286a72d3",
   "metadata": {},
   "outputs": [
    {
     "name": "stdout",
     "output_type": "stream",
     "text": [
      "Predicted outcome: Completed\n",
      "Prediction probability (0=Completed, 1=Cancelled): [1. 0.]\n"
     ]
    }
   ],
   "source": [
    "result = \"Cancelled\" if prediction[0] == 1 else \"Completed\"\n",
    "print(f\"Predicted outcome: {result}\")\n",
    "print(f\"Prediction probability (0=Completed, 1=Cancelled): {prediction_proba[0]}\")"
   ]
  },
  {
   "cell_type": "markdown",
   "id": "7b15bd17",
   "metadata": {},
   "source": [
    "#### Our model predicted \"Completed\" because:\n",
    "    The probability for class 0 (Completed) = 1.0\n",
    "    The probability for class 1 (Cancelled) = 0.0\n",
    "    So the model is 100% confident the order will be Completed."
   ]
  }
 ],
 "metadata": {
  "kernelspec": {
   "display_name": "Python 3",
   "language": "python",
   "name": "python3"
  },
  "language_info": {
   "codemirror_mode": {
    "name": "ipython",
    "version": 3
   },
   "file_extension": ".py",
   "mimetype": "text/x-python",
   "name": "python",
   "nbconvert_exporter": "python",
   "pygments_lexer": "ipython3",
   "version": "3.13.9"
  }
 },
 "nbformat": 4,
 "nbformat_minor": 5
}
